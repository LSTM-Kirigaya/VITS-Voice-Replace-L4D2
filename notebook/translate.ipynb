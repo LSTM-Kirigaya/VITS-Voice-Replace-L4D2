{
 "cells": [
  {
   "cell_type": "code",
   "execution_count": null,
   "metadata": {},
   "outputs": [],
   "source": [
    "import json\n",
    "TRANS_ROOT = '../transcription'\n",
    "\n",
    "def translate_zh2ja(zh: str) -> str:\n",
    "    pass\n",
    "\n",
    "\n",
    "def read_json(path: str) -> dict:\n",
    "    with open(path, 'r', encoding='utf-8') as fp:\n",
    "        data = json.load(fp)\n",
    "    return data\n",
    "\n",
    "def write_json(path: str, obj: dict):\n",
    "    with open(path, 'w', encoding='utf-8') as fp:\n",
    "        json.dump(obj, fp, ensure_ascii=False, indent=4)"
   ]
  },
  {
   "cell_type": "code",
   "execution_count": null,
   "metadata": {},
   "outputs": [],
   "source": []
  }
 ],
 "metadata": {
  "kernelspec": {
   "display_name": "Python 3.8.10 64-bit",
   "language": "python",
   "name": "python3"
  },
  "language_info": {
   "codemirror_mode": {
    "name": "ipython",
    "version": 3
   },
   "file_extension": ".py",
   "mimetype": "text/x-python",
   "name": "python",
   "nbconvert_exporter": "python",
   "pygments_lexer": "ipython3",
   "version": "3.8.10"
  },
  "orig_nbformat": 4,
  "vscode": {
   "interpreter": {
    "hash": "e0144baad0ecee903f108a3e46e51ceadd7da3fc904cfa79747d813b61464b4e"
   }
  }
 },
 "nbformat": 4,
 "nbformat_minor": 2
}
