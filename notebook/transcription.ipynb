{
 "cells": [
  {
   "cell_type": "markdown",
   "metadata": {},
   "source": [
    "extract meta info of player voice from your l4d2 game folder\n",
    "\n",
    "meta info:\n",
    "- name of wav file\n",
    "- length of wav\n",
    "- sample rate"
   ]
  },
  {
   "cell_type": "code",
   "execution_count": 1,
   "metadata": {},
   "outputs": [],
   "source": [
    "import os\n",
    "from pydub import AudioSegment\n",
    "import json\n",
    "import tqdm\n",
    "\n",
    "ROOT = r'D:\\Download\\steam\\steam\\steamapps\\common\\Left 4 Dead 2\\left4dead2'\n",
    "VOICE_ROOT = os.path.join(ROOT, 'sound', 'player', 'survivor', 'voice')\n",
    "CHARACTERS = ['coach', 'gambler', 'mechanic', 'producer']\n",
    "\n",
    "def read_json(path: str) -> dict:\n",
    "    with open(path, 'r', encoding='utf-8') as fp:\n",
    "        data = json.load(fp)\n",
    "    return data\n",
    "def write_json(path: str, obj: dict):\n",
    "    with open(path, 'w', encoding='utf-8') as fp:\n",
    "        json.dump(obj, fp, ensure_ascii=False, indent=4)"
   ]
  },
  {
   "cell_type": "code",
   "execution_count": 2,
   "metadata": {},
   "outputs": [
    {
     "name": "stderr",
     "output_type": "stream",
     "text": [
      "100%|██████████| 2420/2420 [00:00<00:00, 10040.95it/s]\n"
     ]
    },
    {
     "name": "stdout",
     "output_type": "stream",
     "text": [
      "finish handle coach\n"
     ]
    },
    {
     "name": "stderr",
     "output_type": "stream",
     "text": [
      "100%|██████████| 2547/2547 [00:00<00:00, 12845.97it/s]\n"
     ]
    },
    {
     "name": "stdout",
     "output_type": "stream",
     "text": [
      "finish handle gambler\n"
     ]
    },
    {
     "name": "stderr",
     "output_type": "stream",
     "text": [
      "100%|██████████| 2616/2616 [00:00<00:00, 11847.46it/s]\n"
     ]
    },
    {
     "name": "stdout",
     "output_type": "stream",
     "text": [
      "finish handle mechanic\n"
     ]
    },
    {
     "name": "stderr",
     "output_type": "stream",
     "text": [
      "100%|██████████| 2090/2090 [00:00<00:00, 11508.67it/s]"
     ]
    },
    {
     "name": "stdout",
     "output_type": "stream",
     "text": [
      "finish handle producer\n"
     ]
    },
    {
     "name": "stderr",
     "output_type": "stream",
     "text": [
      "\n"
     ]
    }
   ],
   "source": [
    "def make_meta_info(name: str):\n",
    "    assert name in CHARACTERS\n",
    "    meta_info = {}\n",
    "\n",
    "    voice_folder = os.path.join(VOICE_ROOT, name)\n",
    "    for wav_file in tqdm.tqdm(os.listdir(voice_folder)):\n",
    "        wav_path = os.path.join(voice_folder, wav_file)\n",
    "        audio: AudioSegment = AudioSegment.from_file(wav_path)\n",
    "        length = len(audio)\n",
    "        sr = audio.frame_rate\n",
    "        meta_info[wav_file] = { 'length': length, 'sr': sr }\n",
    "    write_json('../transcription/{}.meta.json'.format(name), meta_info)\n",
    "\n",
    "for name in CHARACTERS:\n",
    "    make_meta_info(name)\n",
    "    print('finish handle', name)"
   ]
  },
  {
   "cell_type": "code",
   "execution_count": 12,
   "metadata": {},
   "outputs": [
    {
     "name": "stdout",
     "output_type": "stream",
     "text": [
      "find 0 useless wav files\n",
      "find 0 useless wav files\n",
      "find 0 useless wav files\n",
      "find 0 useless wav files\n"
     ]
    }
   ],
   "source": [
    "def align_two_folders(name: str):\n",
    "    assert name in CHARACTERS\n",
    "    meta_path = f'../transcription/{name}.meta.json'\n",
    "    zh_path = f'../transcription/{name}_zh.json'\n",
    "    meta_data = read_json(meta_path)\n",
    "    zh_data = read_json(zh_path)\n",
    "    zh_wavs = set(zh_data.keys())\n",
    "    for wav_file in meta_data:\n",
    "        if wav_file in zh_wavs:\n",
    "            zh_wavs.discard(wav_file)\n",
    "        else:\n",
    "            print('{} not in zh_wavs'.format(wav_file))\n",
    "            zh_data[wav_file] = ''\n",
    "    \n",
    "    print('find {} useless wav files'.format(len(zh_wavs)))\n",
    "    for k in zh_wavs:\n",
    "        zh_data.pop(k)\n",
    "    \n",
    "    write_json(zh_path, zh_data)\n",
    "\n",
    "for name in CHARACTERS:\n",
    "    align_two_folders(name)"
   ]
  },
  {
   "cell_type": "code",
   "execution_count": 9,
   "metadata": {},
   "outputs": [],
   "source": [
    "obj = read_json('../model/config.json')\n",
    "vits_characters = {}\n",
    "for i, code in enumerate(obj['speakers']):\n",
    "    vits_characters[str(code)] = i\n",
    "\n",
    "write_json(f'../config/vit_character.json', vits_characters)"
   ]
  }
 ],
 "metadata": {
  "kernelspec": {
   "display_name": "Python 3.8.10 64-bit",
   "language": "python",
   "name": "python3"
  },
  "language_info": {
   "codemirror_mode": {
    "name": "ipython",
    "version": 3
   },
   "file_extension": ".py",
   "mimetype": "text/x-python",
   "name": "python",
   "nbconvert_exporter": "python",
   "pygments_lexer": "ipython3",
   "version": "3.8.10"
  },
  "orig_nbformat": 4,
  "vscode": {
   "interpreter": {
    "hash": "e0144baad0ecee903f108a3e46e51ceadd7da3fc904cfa79747d813b61464b4e"
   }
  }
 },
 "nbformat": 4,
 "nbformat_minor": 2
}
