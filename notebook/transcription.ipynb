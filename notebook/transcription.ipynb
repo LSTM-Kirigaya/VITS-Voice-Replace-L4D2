{
 "cells": [
  {
   "cell_type": "markdown",
   "metadata": {},
   "source": [
    "extract meta info of player voice from your l4d2 game folder\n",
    "\n",
    "meta info:\n",
    "- name of wav file\n",
    "- length of wav\n",
    "- sample rate"
   ]
  },
  {
   "cell_type": "code",
   "execution_count": 7,
   "metadata": {},
   "outputs": [],
   "source": [
    "import os\n",
    "from pydub import AudioSegment\n",
    "import json\n",
    "import tqdm\n",
    "\n",
    "ROOT = r'D:\\Download\\steam\\steam\\steamapps\\common\\Left 4 Dead 2\\left4dead2'\n",
    "VOICE_ROOT = os.path.join(ROOT, 'sound', 'player', 'survivor', 'voice')\n",
    "NPC_VOICE_ROOT = os.path.join(ROOT, 'sound', 'npc')\n",
    "DLC1_VOICE_ROOT = r'D:\\Download\\steam\\steam\\steamapps\\common\\Left 4 Dead 2\\left4dead2_dlc1\\sound\\player\\survivor\\voice'\n",
    "DLC2_VOICE_ROOT = r'D:\\Download\\steam\\steam\\steamapps\\common\\Left 4 Dead 2\\left4dead2_dlc2\\sound\\player\\survivor\\voice'\n",
    "CHARACTERS = ['coach', 'gambler', 'mechanic', 'producer']\n",
    "DLC1_CHARACTER = ['coach', 'gambler', 'mechanic', 'producer', 'biker', 'teengirl', 'manager']\n",
    "DLC2_CHARACTER = ['biker', 'teengirl', 'manager', 'namvet']\n",
    "\n",
    "\n",
    "def read_json(path: str) -> dict:\n",
    "    with open(path, 'r', encoding='utf-8') as fp:\n",
    "        data = json.load(fp)\n",
    "    return data\n",
    "def write_json(path: str, obj: dict):\n",
    "    with open(path, 'w', encoding='utf-8') as fp:\n",
    "        json.dump(obj, fp, ensure_ascii=False, indent=4)"
   ]
  },
  {
   "cell_type": "code",
   "execution_count": 2,
   "metadata": {},
   "outputs": [
    {
     "name": "stderr",
     "output_type": "stream",
     "text": [
      "100%|██████████| 2420/2420 [00:00<00:00, 10040.95it/s]\n"
     ]
    },
    {
     "name": "stdout",
     "output_type": "stream",
     "text": [
      "finish handle coach\n"
     ]
    },
    {
     "name": "stderr",
     "output_type": "stream",
     "text": [
      "100%|██████████| 2547/2547 [00:00<00:00, 12845.97it/s]\n"
     ]
    },
    {
     "name": "stdout",
     "output_type": "stream",
     "text": [
      "finish handle gambler\n"
     ]
    },
    {
     "name": "stderr",
     "output_type": "stream",
     "text": [
      "100%|██████████| 2616/2616 [00:00<00:00, 11847.46it/s]\n"
     ]
    },
    {
     "name": "stdout",
     "output_type": "stream",
     "text": [
      "finish handle mechanic\n"
     ]
    },
    {
     "name": "stderr",
     "output_type": "stream",
     "text": [
      "100%|██████████| 2090/2090 [00:00<00:00, 11508.67it/s]"
     ]
    },
    {
     "name": "stdout",
     "output_type": "stream",
     "text": [
      "finish handle producer\n"
     ]
    },
    {
     "name": "stderr",
     "output_type": "stream",
     "text": [
      "\n"
     ]
    }
   ],
   "source": [
    "def make_meta_info(name: str):\n",
    "    assert name in CHARACTERS\n",
    "    meta_info = {}\n",
    "\n",
    "    voice_folder = os.path.join(VOICE_ROOT, name)\n",
    "    for wav_file in tqdm.tqdm(os.listdir(voice_folder)):\n",
    "        wav_path = os.path.join(voice_folder, wav_file)\n",
    "        audio: AudioSegment = AudioSegment.from_file(wav_path)\n",
    "        length = len(audio)\n",
    "        sr = audio.frame_rate\n",
    "        meta_info[wav_file] = { 'length': length, 'sr': sr }\n",
    "    write_json('../transcription/{}.meta.json'.format(name), meta_info)\n",
    "\n",
    "for name in CHARACTERS:\n",
    "    make_meta_info(name)\n",
    "    print('finish handle', name)"
   ]
  },
  {
   "cell_type": "code",
   "execution_count": 12,
   "metadata": {},
   "outputs": [
    {
     "name": "stdout",
     "output_type": "stream",
     "text": [
      "find 0 useless wav files\n",
      "find 0 useless wav files\n",
      "find 0 useless wav files\n",
      "find 0 useless wav files\n"
     ]
    }
   ],
   "source": [
    "def align_two_folders(name: str):\n",
    "    assert name in CHARACTERS\n",
    "    meta_path = f'../transcription/{name}.meta.json'\n",
    "    zh_path = f'../transcription/{name}_zh.json'\n",
    "    meta_data = read_json(meta_path)\n",
    "    zh_data = read_json(zh_path)\n",
    "    zh_wavs = set(zh_data.keys())\n",
    "    for wav_file in meta_data:\n",
    "        if wav_file in zh_wavs:\n",
    "            zh_wavs.discard(wav_file)\n",
    "        else:\n",
    "            print('{} not in zh_wavs'.format(wav_file))\n",
    "            zh_data[wav_file] = ''\n",
    "    \n",
    "    print('find {} useless wav files'.format(len(zh_wavs)))\n",
    "    for k in zh_wavs:\n",
    "        zh_data.pop(k)\n",
    "    \n",
    "    write_json(zh_path, zh_data)\n",
    "\n",
    "for name in CHARACTERS:\n",
    "    align_two_folders(name)"
   ]
  },
  {
   "cell_type": "code",
   "execution_count": 9,
   "metadata": {},
   "outputs": [],
   "source": [
    "obj = read_json('../model/config.json')\n",
    "vits_characters = {}\n",
    "for i, code in enumerate(obj['speakers']):\n",
    "    vits_characters[str(code)] = i\n",
    "\n",
    "write_json(f'../config/vit_character.json', vits_characters)"
   ]
  },
  {
   "cell_type": "code",
   "execution_count": 2,
   "metadata": {},
   "outputs": [
    {
     "name": "stderr",
     "output_type": "stream",
     "text": [
      "100%|██████████| 117/117 [00:00<00:00, 212.03it/s]\n"
     ]
    },
    {
     "name": "stdout",
     "output_type": "stream",
     "text": [
      "make whitaker meta info\n"
     ]
    },
    {
     "name": "stderr",
     "output_type": "stream",
     "text": [
      "100%|██████████| 121/121 [00:00<00:00, 125.32it/s]\n"
     ]
    },
    {
     "name": "stdout",
     "output_type": "stream",
     "text": [
      "make virgil meta info\n"
     ]
    },
    {
     "name": "stderr",
     "output_type": "stream",
     "text": [
      "100%|██████████| 1/1 [00:00<00:00, 142.85it/s]\n"
     ]
    },
    {
     "name": "stdout",
     "output_type": "stream",
     "text": [
      "make pilot meta info\n"
     ]
    },
    {
     "name": "stderr",
     "output_type": "stream",
     "text": [
      "100%|██████████| 3/3 [00:00<00:00, 95.18it/s]\n"
     ]
    },
    {
     "name": "stdout",
     "output_type": "stream",
     "text": [
      "make soldier meta info\n"
     ]
    },
    {
     "name": "stderr",
     "output_type": "stream",
     "text": [
      "100%|██████████| 65/65 [00:00<00:00, 119.59it/s]\n"
     ]
    },
    {
     "name": "stdout",
     "output_type": "stream",
     "text": [
      "make soldier1 meta info\n"
     ]
    },
    {
     "name": "stderr",
     "output_type": "stream",
     "text": [
      "100%|██████████| 34/34 [00:00<00:00, 117.48it/s]\n"
     ]
    },
    {
     "name": "stdout",
     "output_type": "stream",
     "text": [
      "make soldier2 meta info\n"
     ]
    },
    {
     "name": "stderr",
     "output_type": "stream",
     "text": [
      "100%|██████████| 14/14 [00:00<00:00, 111.94it/s]"
     ]
    },
    {
     "name": "stdout",
     "output_type": "stream",
     "text": [
      "make 05_military meta info\n"
     ]
    },
    {
     "name": "stderr",
     "output_type": "stream",
     "text": [
      "\n"
     ]
    }
   ],
   "source": [
    "def make_npc_meta(name):\n",
    "    meta_info = {}\n",
    "\n",
    "    voice_folder = os.path.join(NPC_VOICE_ROOT, name)\n",
    "    for wav_file in tqdm.tqdm(os.listdir(voice_folder)):\n",
    "        wav_path = os.path.join(voice_folder, wav_file)\n",
    "        audio: AudioSegment = AudioSegment.from_file(wav_path)\n",
    "        length = len(audio)\n",
    "        sr = audio.frame_rate\n",
    "        meta_info[wav_file] = { 'length': length, 'sr': sr }\n",
    "    write_json('../transcription/npc/{}.meta.json'.format(name), meta_info)\n",
    "\n",
    "for name in ['whitaker', 'virgil', 'pilot', 'soldier', 'soldier1', 'soldier2', '05_military']:\n",
    "    make_npc_meta(name)\n",
    "    print('make {} meta info'.format(name))"
   ]
  },
  {
   "cell_type": "code",
   "execution_count": 4,
   "metadata": {},
   "outputs": [
    {
     "name": "stdout",
     "output_type": "stream",
     "text": [
      "make coach meta info\n"
     ]
    },
    {
     "name": "stderr",
     "output_type": "stream",
     "text": [
      "100%|██████████| 313/313 [00:02<00:00, 118.70it/s]\n"
     ]
    },
    {
     "name": "stdout",
     "output_type": "stream",
     "text": [
      "make gambler meta info\n"
     ]
    },
    {
     "name": "stderr",
     "output_type": "stream",
     "text": [
      "100%|██████████| 421/421 [00:02<00:00, 152.00it/s]\n"
     ]
    },
    {
     "name": "stdout",
     "output_type": "stream",
     "text": [
      "make mechanic meta info\n"
     ]
    },
    {
     "name": "stderr",
     "output_type": "stream",
     "text": [
      "100%|██████████| 463/463 [00:03<00:00, 119.23it/s]\n"
     ]
    },
    {
     "name": "stdout",
     "output_type": "stream",
     "text": [
      "make producer meta info\n"
     ]
    },
    {
     "name": "stderr",
     "output_type": "stream",
     "text": [
      "100%|██████████| 450/450 [00:03<00:00, 145.14it/s]\n"
     ]
    },
    {
     "name": "stdout",
     "output_type": "stream",
     "text": [
      "make biker meta info\n"
     ]
    },
    {
     "name": "stderr",
     "output_type": "stream",
     "text": [
      "100%|██████████| 206/206 [00:02<00:00, 100.82it/s]\n"
     ]
    },
    {
     "name": "stdout",
     "output_type": "stream",
     "text": [
      "make teengirl meta info\n"
     ]
    },
    {
     "name": "stderr",
     "output_type": "stream",
     "text": [
      "100%|██████████| 155/155 [00:01<00:00, 115.86it/s]\n"
     ]
    },
    {
     "name": "stdout",
     "output_type": "stream",
     "text": [
      "make manager meta info\n"
     ]
    },
    {
     "name": "stderr",
     "output_type": "stream",
     "text": [
      "100%|██████████| 138/138 [00:01<00:00, 135.48it/s]\n"
     ]
    }
   ],
   "source": [
    "def make_dlc1_meta(name):\n",
    "    meta_info = {}\n",
    "\n",
    "    voice_folder = os.path.join(DLC1_VOICE_ROOT, name)\n",
    "    for wav_file in tqdm.tqdm(os.listdir(voice_folder)):\n",
    "        wav_path = os.path.join(voice_folder, wav_file)\n",
    "        audio: AudioSegment = AudioSegment.from_file(wav_path)\n",
    "        length = len(audio)\n",
    "        sr = audio.frame_rate\n",
    "        meta_info[wav_file] = { 'length': length, 'sr': sr }\n",
    "    write_json('../transcription/dlc1/{}.meta.json'.format(name), meta_info)\n",
    "\n",
    "for name in DLC1_CHARACTER:\n",
    "    print('make {} meta info'.format(name))\n",
    "    make_dlc1_meta(name)"
   ]
  },
  {
   "cell_type": "code",
   "execution_count": 8,
   "metadata": {},
   "outputs": [
    {
     "name": "stdout",
     "output_type": "stream",
     "text": [
      "make biker meta info\n"
     ]
    },
    {
     "name": "stderr",
     "output_type": "stream",
     "text": [
      "100%|██████████| 1483/1483 [00:04<00:00, 344.71it/s]\n"
     ]
    },
    {
     "name": "stdout",
     "output_type": "stream",
     "text": [
      "make teengirl meta info\n"
     ]
    },
    {
     "name": "stderr",
     "output_type": "stream",
     "text": [
      "100%|██████████| 1571/1571 [00:04<00:00, 382.54it/s]\n"
     ]
    },
    {
     "name": "stdout",
     "output_type": "stream",
     "text": [
      "make manager meta info\n"
     ]
    },
    {
     "name": "stderr",
     "output_type": "stream",
     "text": [
      "100%|██████████| 1222/1222 [00:03<00:00, 378.91it/s]\n"
     ]
    },
    {
     "name": "stdout",
     "output_type": "stream",
     "text": [
      "make namvet meta info\n"
     ]
    },
    {
     "name": "stderr",
     "output_type": "stream",
     "text": [
      "100%|██████████| 1214/1214 [00:00<00:00, 6864.31it/s]\n"
     ]
    }
   ],
   "source": [
    "def make_dlc2_meta(name):\n",
    "    meta_info = {}\n",
    "\n",
    "    voice_folder = os.path.join(DLC2_VOICE_ROOT, name)\n",
    "    for wav_file in tqdm.tqdm(os.listdir(voice_folder)):\n",
    "        wav_path = os.path.join(voice_folder, wav_file)\n",
    "        audio: AudioSegment = AudioSegment.from_file(wav_path)\n",
    "        length = len(audio)\n",
    "        sr = audio.frame_rate\n",
    "        meta_info[wav_file] = { 'length': length, 'sr': sr }\n",
    "    write_json('../transcription/dlc2/{}.meta.json'.format(name), meta_info)\n",
    "\n",
    "for name in DLC2_CHARACTER:\n",
    "    print('make {} meta info'.format(name))\n",
    "    make_dlc2_meta(name)"
   ]
  }
 ],
 "metadata": {
  "kernelspec": {
   "display_name": "Python 3.8.10 64-bit",
   "language": "python",
   "name": "python3"
  },
  "language_info": {
   "codemirror_mode": {
    "name": "ipython",
    "version": 3
   },
   "file_extension": ".py",
   "mimetype": "text/x-python",
   "name": "python",
   "nbconvert_exporter": "python",
   "pygments_lexer": "ipython3",
   "version": "3.8.10"
  },
  "orig_nbformat": 4,
  "vscode": {
   "interpreter": {
    "hash": "e0144baad0ecee903f108a3e46e51ceadd7da3fc904cfa79747d813b61464b4e"
   }
  }
 },
 "nbformat": 4,
 "nbformat_minor": 2
}
