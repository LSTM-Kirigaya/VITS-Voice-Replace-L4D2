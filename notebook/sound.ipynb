{
 "cells": [
  {
   "cell_type": "markdown",
   "metadata": {},
   "source": [
    "# Do experiment to make voice brighter"
   ]
  },
  {
   "cell_type": "code",
   "execution_count": 64,
   "metadata": {},
   "outputs": [],
   "source": [
    "import librosa\n",
    "from pydub import AudioSegment\n",
    "from pydub.effects import compress_dynamic_range, normalize\n",
    "import pydub.scipy_effects as scipy_effects\n",
    "from pydub.playback import play\n",
    "import soundfile as sf"
   ]
  },
  {
   "cell_type": "code",
   "execution_count": 65,
   "metadata": {},
   "outputs": [
    {
     "data": {
      "text/html": [
       "\n",
       "                    <audio controls>\n",
       "                        <source src=\"data:audio/mpeg;base64,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\" type=\"audio/mpeg\"/>\n",
       "                        Your browser does not support the audio element.\n",
       "                    </audio>\n",
       "                  "
      ],
      "text/plain": [
       "<pydub.audio_segment.AudioSegment at 0x1ae2fba25e0>"
      ]
     },
     "execution_count": 65,
     "metadata": {},
     "output_type": "execute_result"
    }
   ],
   "source": [
    "shenhe_audio: AudioSegment = AudioSegment.from_file('./sound/alertgiveitem01.wav')\n",
    "shenhe_audio"
   ]
  },
  {
   "cell_type": "code",
   "execution_count": 66,
   "metadata": {},
   "outputs": [
    {
     "data": {
      "text/html": [
       "\n",
       "                    <audio controls>\n",
       "                        <source src=\"data:audio/mpeg;base64,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\" type=\"audio/mpeg\"/>\n",
       "                        Your browser does not support the audio element.\n",
       "                    </audio>\n",
       "                  "
      ],
      "text/plain": [
       "<pydub.audio_segment.AudioSegment at 0x1ae05160520>"
      ]
     },
     "execution_count": 66,
     "metadata": {},
     "output_type": "execute_result"
    }
   ],
   "source": [
    "keqin_audio: AudioSegment = AudioSegment.from_file('./sound/adrenaline01.wav')\n",
    "keqin_audio"
   ]
  },
  {
   "cell_type": "markdown",
   "metadata": {},
   "source": [
    "## Solution 1 : Gain + Compress"
   ]
  },
  {
   "cell_type": "code",
   "execution_count": 67,
   "metadata": {},
   "outputs": [
    {
     "data": {
      "text/html": [
       "\n",
       "                    <audio controls>\n",
       "                        <source src=\"data:audio/mpeg;base64,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\" type=\"audio/mpeg\"/>\n",
       "                        Your browser does not support the audio element.\n",
       "                    </audio>\n",
       "                  "
      ],
      "text/plain": [
       "<pydub.audio_segment.AudioSegment at 0x1ae30cf0070>"
      ]
     },
     "execution_count": 67,
     "metadata": {},
     "output_type": "execute_result"
    }
   ],
   "source": [
    "def solution_1(input_audio: AudioSegment) -> AudioSegment:\n",
    "    target_dbfs = 0\n",
    "    gain = target_dbfs - input_audio.max_dBFS\n",
    "    louder_audio = input_audio + gain\n",
    "\n",
    "    compressed_audio: AudioSegment = compress_dynamic_range(louder_audio, \n",
    "        threshold=target_dbfs - 0.5,\n",
    "        ratio=4.0, \n",
    "        attack=5.0, \n",
    "        release=50.0,\n",
    "    )\n",
    "    \n",
    "    return compressed_audio\n",
    "\n",
    "solution_1(shenhe_audio)"
   ]
  },
  {
   "cell_type": "markdown",
   "metadata": {},
   "source": [
    "## Solution 2: Gain + Normalize"
   ]
  },
  {
   "cell_type": "code",
   "execution_count": 68,
   "metadata": {},
   "outputs": [
    {
     "data": {
      "text/html": [
       "\n",
       "                    <audio controls>\n",
       "                        <source src=\"data:audio/mpeg;base64,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\" type=\"audio/mpeg\"/>\n",
       "                        Your browser does not support the audio element.\n",
       "                    </audio>\n",
       "                  "
      ],
      "text/plain": [
       "<pydub.audio_segment.AudioSegment at 0x1ae2fba2a60>"
      ]
     },
     "execution_count": 68,
     "metadata": {},
     "output_type": "execute_result"
    }
   ],
   "source": [
    "def solution_2(input_audio: AudioSegment) -> AudioSegment:\n",
    "    target_dbfs = 0\n",
    "    gain = target_dbfs - input_audio.max_dBFS\n",
    "    louder_audio = input_audio + gain\n",
    "    normalized_audio: AudioSegment = normalize(louder_audio, headroom=0.05)\n",
    "    return normalized_audio\n",
    "\n",
    "solution_2(shenhe_audio)"
   ]
  },
  {
   "cell_type": "markdown",
   "metadata": {},
   "source": [
    "## Solution 3: Normalize"
   ]
  },
  {
   "cell_type": "code",
   "execution_count": 69,
   "metadata": {},
   "outputs": [
    {
     "data": {
      "text/html": [
       "\n",
       "                    <audio controls>\n",
       "                        <source src=\"data:audio/mpeg;base64,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\" type=\"audio/mpeg\"/>\n",
       "                        Your browser does not support the audio element.\n",
       "                    </audio>\n",
       "                  "
      ],
      "text/plain": [
       "<pydub.audio_segment.AudioSegment at 0x1ae2fba2790>"
      ]
     },
     "execution_count": 69,
     "metadata": {},
     "output_type": "execute_result"
    }
   ],
   "source": [
    "def solution_3(input_audio: AudioSegment) -> AudioSegment:\n",
    "    normalized_audio: AudioSegment = normalize(input_audio, headroom=0.05)\n",
    "    return normalized_audio\n",
    "\n",
    "solution_3(shenhe_audio)"
   ]
  },
  {
   "cell_type": "code",
   "execution_count": 70,
   "metadata": {},
   "outputs": [
    {
     "data": {
      "text/html": [
       "\n",
       "                    <audio controls>\n",
       "                        <source src=\"data:audio/mpeg;base64,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\" type=\"audio/mpeg\"/>\n",
       "                        Your browser does not support the audio element.\n",
       "                    </audio>\n",
       "                  "
      ],
      "text/plain": [
       "<pydub.audio_segment.AudioSegment at 0x1ae2fba2a00>"
      ]
     },
     "execution_count": 70,
     "metadata": {},
     "output_type": "execute_result"
    }
   ],
   "source": [
    "solution_3(keqin_audio)"
   ]
  },
  {
   "cell_type": "markdown",
   "metadata": {},
   "source": [
    "So I think, normalization is necessary. I need extra EQ to make voice brighter."
   ]
  },
  {
   "cell_type": "markdown",
   "metadata": {},
   "source": [
    "## Solution 4: EQ + Normalize"
   ]
  },
  {
   "cell_type": "code",
   "execution_count": 94,
   "metadata": {},
   "outputs": [
    {
     "data": {
      "text/html": [
       "\n",
       "                    <audio controls>\n",
       "                        <source src=\"data:audio/mpeg;base64,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\" type=\"audio/mpeg\"/>\n",
       "                        Your browser does not support the audio element.\n",
       "                    </audio>\n",
       "                  "
      ],
      "text/plain": [
       "<pydub.audio_segment.AudioSegment at 0x1ae051e9d30>"
      ]
     },
     "execution_count": 94,
     "metadata": {},
     "output_type": "execute_result"
    }
   ],
   "source": [
    "def solution_4(input_audio: AudioSegment, focus_freq=3000) -> AudioSegment:\n",
    "    target_dbfs = 0\n",
    "    gain = target_dbfs - input_audio.max_dBFS\n",
    "    out = scipy_effects.eq(input_audio, focus_freq=focus_freq, gain_dB=gain, filter_mode=\"high_shelf\", order=2)\n",
    "    out = normalize(out, headroom=0.05)\n",
    "    return out\n",
    "solution_4(shenhe_audio, focus_freq=200)"
   ]
  },
  {
   "cell_type": "code",
   "execution_count": 95,
   "metadata": {},
   "outputs": [
    {
     "data": {
      "text/html": [
       "\n",
       "                    <audio controls>\n",
       "                        <source src=\"data:audio/mpeg;base64,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\" type=\"audio/mpeg\"/>\n",
       "                        Your browser does not support the audio element.\n",
       "                    </audio>\n",
       "                  "
      ],
      "text/plain": [
       "<pydub.audio_segment.AudioSegment at 0x1ae051773a0>"
      ]
     },
     "execution_count": 95,
     "metadata": {},
     "output_type": "execute_result"
    }
   ],
   "source": [
    "solution_4(keqin_audio, focus_freq=200)"
   ]
  },
  {
   "cell_type": "code",
   "execution_count": 98,
   "metadata": {},
   "outputs": [
    {
     "data": {
      "text/plain": [
       "<_io.BufferedRandom name='test.wav'>"
      ]
     },
     "execution_count": 98,
     "metadata": {},
     "output_type": "execute_result"
    }
   ],
   "source": [
    "shenhe_audio.set_frame_rate(shenhe_audio.frame_rate * 2)\n",
    "shenhe_audio.export('test.wav')"
   ]
  }
 ],
 "metadata": {
  "kernelspec": {
   "display_name": "Python 3.8.10 64-bit",
   "language": "python",
   "name": "python3"
  },
  "language_info": {
   "codemirror_mode": {
    "name": "ipython",
    "version": 3
   },
   "file_extension": ".py",
   "mimetype": "text/x-python",
   "name": "python",
   "nbconvert_exporter": "python",
   "pygments_lexer": "ipython3",
   "version": "3.8.10"
  },
  "orig_nbformat": 4,
  "vscode": {
   "interpreter": {
    "hash": "e0144baad0ecee903f108a3e46e51ceadd7da3fc904cfa79747d813b61464b4e"
   }
  }
 },
 "nbformat": 4,
 "nbformat_minor": 2
}
