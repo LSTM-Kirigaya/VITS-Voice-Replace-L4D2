{
 "cells": [
  {
   "cell_type": "markdown",
   "metadata": {},
   "source": [
    "# Do experiment to make voice brighter"
   ]
  },
  {
   "cell_type": "code",
   "execution_count": 1,
   "metadata": {},
   "outputs": [],
   "source": [
    "import librosa\n",
    "from pydub import AudioSegment\n",
    "from pydub.effects import compress_dynamic_range, normalize\n",
    "import pydub.scipy_effects as scipy_effects\n",
    "from pydub.playback import play\n",
    "import soundfile as sf"
   ]
  },
  {
   "cell_type": "code",
   "execution_count": 2,
   "metadata": {},
   "outputs": [
    {
     "data": {
      "text/html": [
       "\n",
       "                    <audio controls>\n",
       "                        <source src=\"data:audio/mpeg;base64,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\" type=\"audio/mpeg\"/>\n",
       "                        Your browser does not support the audio element.\n",
       "                    </audio>\n",
       "                  "
      ],
      "text/plain": [
       "<pydub.audio_segment.AudioSegment at 0x209b62408b0>"
      ]
     },
     "execution_count": 2,
     "metadata": {},
     "output_type": "execute_result"
    }
   ],
   "source": [
    "test_audio: AudioSegment = AudioSegment.from_file('./sound/alertgiveitem01.wav')\n",
    "test_audio"
   ]
  },
  {
   "cell_type": "markdown",
   "metadata": {},
   "source": [
    "## Solution 1 : Gain + Compress"
   ]
  },
  {
   "cell_type": "code",
   "execution_count": 3,
   "metadata": {},
   "outputs": [
    {
     "data": {
      "text/html": [
       "\n",
       "                    <audio controls>\n",
       "                        <source src=\"data:audio/mpeg;base64,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\" type=\"audio/mpeg\"/>\n",
       "                        Your browser does not support the audio element.\n",
       "                    </audio>\n",
       "                  "
      ],
      "text/plain": [
       "<pydub.audio_segment.AudioSegment at 0x209886a3040>"
      ]
     },
     "execution_count": 3,
     "metadata": {},
     "output_type": "execute_result"
    }
   ],
   "source": [
    "def solution_1(input_audio: AudioSegment) -> AudioSegment:\n",
    "    target_dbfs = 0\n",
    "    gain = target_dbfs - input_audio.max_dBFS\n",
    "    louder_audio = input_audio + gain\n",
    "\n",
    "    compressed_audio: AudioSegment = compress_dynamic_range(louder_audio, \n",
    "        threshold=target_dbfs - 0.5,\n",
    "        ratio=4.0, \n",
    "        attack=5.0, \n",
    "        release=50.0,\n",
    "    )\n",
    "    \n",
    "    return compressed_audio\n",
    "\n",
    "solution_1(test_audio)"
   ]
  },
  {
   "cell_type": "markdown",
   "metadata": {},
   "source": [
    "## Solution 2: Gain + Normalize"
   ]
  },
  {
   "cell_type": "code",
   "execution_count": 4,
   "metadata": {},
   "outputs": [
    {
     "data": {
      "text/html": [
       "\n",
       "                    <audio controls>\n",
       "                        <source src=\"data:audio/mpeg;base64,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\" type=\"audio/mpeg\"/>\n",
       "                        Your browser does not support the audio element.\n",
       "                    </audio>\n",
       "                  "
      ],
      "text/plain": [
       "<pydub.audio_segment.AudioSegment at 0x2098859b8e0>"
      ]
     },
     "execution_count": 4,
     "metadata": {},
     "output_type": "execute_result"
    }
   ],
   "source": [
    "def solution_2(input_audio: AudioSegment) -> AudioSegment:\n",
    "    target_dbfs = 0\n",
    "    gain = target_dbfs - input_audio.max_dBFS\n",
    "    louder_audio = input_audio + gain\n",
    "    normalized_audio: AudioSegment = normalize(louder_audio, headroom=0.05)\n",
    "    return normalized_audio\n",
    "\n",
    "solution_2(test_audio)"
   ]
  },
  {
   "cell_type": "markdown",
   "metadata": {},
   "source": [
    "## Solution 3: Normalize"
   ]
  },
  {
   "cell_type": "code",
   "execution_count": 5,
   "metadata": {},
   "outputs": [
    {
     "data": {
      "text/html": [
       "\n",
       "                    <audio controls>\n",
       "                        <source src=\"data:audio/mpeg;base64,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\" type=\"audio/mpeg\"/>\n",
       "                        Your browser does not support the audio element.\n",
       "                    </audio>\n",
       "                  "
      ],
      "text/plain": [
       "<pydub.audio_segment.AudioSegment at 0x209885bb5e0>"
      ]
     },
     "execution_count": 5,
     "metadata": {},
     "output_type": "execute_result"
    }
   ],
   "source": [
    "def solution_3(input_audio: AudioSegment) -> AudioSegment:\n",
    "    normalized_audio: AudioSegment = normalize(input_audio, headroom=0.05)\n",
    "    return normalized_audio\n",
    "\n",
    "solution_3(test_audio)"
   ]
  },
  {
   "cell_type": "markdown",
   "metadata": {},
   "source": [
    "So I think, normalization is necessary. I need extra EQ to make voice brighter."
   ]
  },
  {
   "cell_type": "markdown",
   "metadata": {},
   "source": [
    "## Solution 4: EQ + Normalize"
   ]
  },
  {
   "cell_type": "code",
   "execution_count": 6,
   "metadata": {},
   "outputs": [],
   "source": [
    "def solution_4(input_audio: AudioSegment) -> AudioSegment:\n",
    "    pass"
   ]
  }
 ],
 "metadata": {
  "kernelspec": {
   "display_name": "Python 3.8.10 64-bit",
   "language": "python",
   "name": "python3"
  },
  "language_info": {
   "codemirror_mode": {
    "name": "ipython",
    "version": 3
   },
   "file_extension": ".py",
   "mimetype": "text/x-python",
   "name": "python",
   "nbconvert_exporter": "python",
   "pygments_lexer": "ipython3",
   "version": "3.8.10"
  },
  "orig_nbformat": 4,
  "vscode": {
   "interpreter": {
    "hash": "e0144baad0ecee903f108a3e46e51ceadd7da3fc904cfa79747d813b61464b4e"
   }
  }
 },
 "nbformat": 4,
 "nbformat_minor": 2
}
