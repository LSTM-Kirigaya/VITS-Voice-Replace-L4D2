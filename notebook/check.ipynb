{
 "cells": [
  {
   "cell_type": "code",
   "execution_count": 5,
   "metadata": {},
   "outputs": [],
   "source": [
    "import os\n",
    "from pydub import AudioSegment\n",
    "import json\n",
    "import tqdm\n",
    "\n",
    "ROOT = r'D:\\Download\\steam\\steam\\steamapps\\common\\Left 4 Dead 2\\left4dead2'\n",
    "VOICE_ROOT = os.path.join(ROOT, 'sound', 'player', 'survivor', 'voice')\n",
    "CHARACTERS = ['coach', 'gambler', 'mechanic', 'producer']\n",
    "\n",
    "def read_json(path: str) -> dict:\n",
    "    with open(path, 'r', encoding='utf-8') as fp:\n",
    "        data = json.load(fp)\n",
    "    return data\n",
    "def write_json(path: str, obj: dict):\n",
    "    with open(path, 'w', encoding='utf-8') as fp:\n",
    "        json.dump(obj, fp, ensure_ascii=False, indent=4)"
   ]
  },
  {
   "cell_type": "code",
   "execution_count": 6,
   "metadata": {},
   "outputs": [
    {
     "name": "stdout",
     "output_type": "stream",
     "text": [
      "no unaccomplished words found in coach\n",
      "no unaccomplished words found in gambler\n",
      "no unaccomplished words found in mechanic\n",
      "no unaccomplished words found in producer\n"
     ]
    }
   ],
   "source": [
    "def check_empty(name: str):\n",
    "    assert name in CHARACTERS\n",
    "    data = read_json(f'../transcription/{name}_zh.json')\n",
    "    empty = {}\n",
    "    for k in data:\n",
    "        words = data[k].strip()\n",
    "        if len(words) == 0:\n",
    "            empty[k] = ''\n",
    "    if len(empty) > 0:\n",
    "        empty_path = f'empty.{name}.json'\n",
    "        write_json(empty_path, empty)\n",
    "        print('{} unaccomplished words found in {}, write them to {}'.format(len(empty), name, empty_path))\n",
    "    else:\n",
    "        print('no unaccomplished words found in {}'.format(name))\n",
    "\n",
    "for name in CHARACTERS:\n",
    "    check_empty(name)"
   ]
  },
  {
   "cell_type": "code",
   "execution_count": 4,
   "metadata": {},
   "outputs": [],
   "source": [
    "def merge_json(name):\n",
    "    # merge path2 to path1\n",
    "    path1 = f'../transcription/{name}_zh.json'\n",
    "    path2 = f'./empty.{name}.json'\n",
    "\n",
    "    data1 = read_json(path1)\n",
    "    data2 = read_json(path2)\n",
    "\n",
    "    for k in data2:\n",
    "        data1[k] = data2[k]\n",
    "        \n",
    "    # sort\n",
    "    data1 = {k : data1[k] for k in sorted(data1.keys())}\n",
    "    write_json(path1, data1)\n",
    "    os.remove(path2)\n",
    "\n",
    "for name in CHARACTERS:\n",
    "    merge_json(name)"
   ]
  }
 ],
 "metadata": {
  "kernelspec": {
   "display_name": "Python 3.8.10 64-bit",
   "language": "python",
   "name": "python3"
  },
  "language_info": {
   "codemirror_mode": {
    "name": "ipython",
    "version": 3
   },
   "file_extension": ".py",
   "mimetype": "text/x-python",
   "name": "python",
   "nbconvert_exporter": "python",
   "pygments_lexer": "ipython3",
   "version": "3.8.10"
  },
  "orig_nbformat": 4,
  "vscode": {
   "interpreter": {
    "hash": "e0144baad0ecee903f108a3e46e51ceadd7da3fc904cfa79747d813b61464b4e"
   }
  }
 },
 "nbformat": 4,
 "nbformat_minor": 2
}
