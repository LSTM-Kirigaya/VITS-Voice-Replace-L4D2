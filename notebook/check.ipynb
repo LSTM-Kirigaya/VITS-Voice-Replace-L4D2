{
 "cells": [
  {
   "cell_type": "code",
   "execution_count": 1,
   "metadata": {},
   "outputs": [],
   "source": [
    "import os\n",
    "from pydub import AudioSegment\n",
    "import json\n",
    "import tqdm\n",
    "import yaml\n",
    "\n",
    "ROOT = r'D:\\Download\\steam\\steam\\steamapps\\common\\Left 4 Dead 2\\left4dead2'\n",
    "VOICE_ROOT = os.path.join(ROOT, 'sound', 'player', 'survivor', 'voice')\n",
    "CHARACTERS = ['coach', 'gambler', 'mechanic', 'producer']\n",
    "DLC1_CHARACTER = ['coach', 'gambler', 'mechanic', 'producer', 'biker', 'teengirl', 'manager']\n",
    "DLC1_VOICE_ROOT = r'D:\\Download\\steam\\steam\\steamapps\\common\\Left 4 Dead 2\\left4dead2_dlc1\\sound\\player\\survivor\\voice'\n",
    "DLC2_VOICE_ROOT = r'D:\\Download\\steam\\steam\\steamapps\\common\\Left 4 Dead 2\\left4dead2_dlc2\\sound\\player\\survivor\\voice'\n",
    "\n",
    "with open('../config/voice.yaml', 'r', encoding='utf-8') as fp:\n",
    "    config = yaml.load(fp, Loader=yaml.FullLoader)\n",
    "\n",
    "def read_json(path: str) -> dict:\n",
    "    with open(path, 'r', encoding='utf-8') as fp:\n",
    "        data = json.load(fp)\n",
    "    return data\n",
    "\n",
    "def write_json(path: str, obj: dict):\n",
    "    with open(path, 'w', encoding='utf-8') as fp:\n",
    "        json.dump(obj, fp, ensure_ascii=False, indent=4)"
   ]
  },
  {
   "cell_type": "code",
   "execution_count": 2,
   "metadata": {},
   "outputs": [
    {
     "name": "stdout",
     "output_type": "stream",
     "text": [
      "no unaccomplished words found in coach\n",
      "no unaccomplished words found in gambler\n",
      "no unaccomplished words found in mechanic\n",
      "no unaccomplished words found in producer\n"
     ]
    }
   ],
   "source": [
    "def check_empty(name: str):\n",
    "    assert name in CHARACTERS\n",
    "    data = read_json(f'../transcription/{name}_zh.json')\n",
    "    empty = {}\n",
    "    for k in data:\n",
    "        words = data[k].strip()\n",
    "        if len(words) == 0:\n",
    "            empty[k] = ''\n",
    "    if len(empty) > 0:\n",
    "        empty_path = f'empty.{name}.json'\n",
    "        write_json(empty_path, empty)\n",
    "        print('{} unaccomplished words found in {}, write them to {}'.format(len(empty), name, empty_path))\n",
    "    else:\n",
    "        print('no unaccomplished words found in {}'.format(name))\n",
    "\n",
    "for name in CHARACTERS:\n",
    "    check_empty(name)"
   ]
  },
  {
   "cell_type": "code",
   "execution_count": 3,
   "metadata": {},
   "outputs": [
    {
     "name": "stdout",
     "output_type": "stream",
     "text": [
      "no cache in coach, skip\n",
      "no cache in gambler, skip\n",
      "no cache in mechanic, skip\n",
      "no cache in producer, skip\n"
     ]
    }
   ],
   "source": [
    "def merge_json(name):\n",
    "    # merge path2 to path1\n",
    "    path1 = f'../transcription/{name}_zh.json'\n",
    "    path2 = f'./empty.{name}.json'\n",
    "\n",
    "    if not os.path.exists(path2):\n",
    "        print('no cache in {}, skip'.format(name))\n",
    "        return\n",
    "\n",
    "    data1 = read_json(path1)\n",
    "    data2 = read_json(path2)\n",
    "\n",
    "    for k in data2:\n",
    "        data1[k] = data2[k]\n",
    "        \n",
    "    # sort\n",
    "    data1 = {k : data1[k] for k in sorted(data1.keys())}\n",
    "    write_json(path1, data1)\n",
    "    os.remove(path2)\n",
    "\n",
    "for name in CHARACTERS:\n",
    "    merge_json(name)"
   ]
  },
  {
   "cell_type": "markdown",
   "metadata": {},
   "source": [
    "# check dist sr and length"
   ]
  },
  {
   "cell_type": "code",
   "execution_count": 6,
   "metadata": {},
   "outputs": [
    {
     "name": "stdout",
     "output_type": "stream",
     "text": [
      "check coach\n"
     ]
    },
    {
     "name": "stderr",
     "output_type": "stream",
     "text": [
      "100%|██████████| 2420/2420 [00:00<00:00, 5197.99it/s]\n"
     ]
    },
    {
     "name": "stdout",
     "output_type": "stream",
     "text": [
      "coach exceed count : 0\n",
      "check gambler\n"
     ]
    },
    {
     "name": "stderr",
     "output_type": "stream",
     "text": [
      "100%|██████████| 2547/2547 [00:00<00:00, 5986.58it/s]\n"
     ]
    },
    {
     "name": "stdout",
     "output_type": "stream",
     "text": [
      "gambler exceed count : 1\n",
      "check mechanic\n"
     ]
    },
    {
     "name": "stderr",
     "output_type": "stream",
     "text": [
      "100%|██████████| 2616/2616 [00:00<00:00, 5561.38it/s]\n"
     ]
    },
    {
     "name": "stdout",
     "output_type": "stream",
     "text": [
      "mechanic exceed count : 3\n",
      "check producer\n"
     ]
    },
    {
     "name": "stderr",
     "output_type": "stream",
     "text": [
      "100%|██████████| 2090/2090 [00:00<00:00, 5636.10it/s]"
     ]
    },
    {
     "name": "stdout",
     "output_type": "stream",
     "text": [
      "producer exceed count : 0\n"
     ]
    },
    {
     "name": "stderr",
     "output_type": "stream",
     "text": [
      "\n"
     ]
    }
   ],
   "source": [
    "def check_base_info(name: str):\n",
    "    target_folder = os.path.join(VOICE_ROOT, name)\n",
    "    result_folder = os.path.join('..', 'dist', config[name]['mod_name'], 'sound', 'player', 'survivor', 'voice', name)\n",
    "    assert len(os.listdir(target_folder)) == len(os.listdir(result_folder))\n",
    "    exceed_count = 0\n",
    "    if not os.path.exists('log'):\n",
    "        os.makedirs('log')\n",
    "    exceed_log = {}\n",
    "\n",
    "    for wav_file in tqdm.tqdm(os.listdir(target_folder)):\n",
    "        target_path = os.path.join(target_folder, wav_file)\n",
    "        result_path = os.path.join(result_folder, wav_file)\n",
    "        assert os.path.exists(result_path), f\"{result_path} doesn't exist\"\n",
    "\n",
    "        target_audio: AudioSegment = AudioSegment.from_file(target_path)\n",
    "        result_audio: AudioSegment = AudioSegment.from_file(result_path)\n",
    "\n",
    "        target_sr = target_audio.frame_rate\n",
    "        result_sr = result_audio.frame_rate\n",
    "        target_len = len(target_audio)\n",
    "        result_len = len(result_audio)\n",
    "\n",
    "        assert target_sr == result_sr, f\"{wav_file} doesn't share the same sample rate: {target_sr}(expect) vs {result_sr}(fact)\"\n",
    "        assert target_len <= result_len, f\"{wav_file} doesn't share the same length: {target_len}(expect) vs {result_len}(fact)\"\n",
    "        if result_len > target_len and (result_len - target_len) / target_len >= 0.2 and target_len >= 1000:\n",
    "            exceed_count += 1\n",
    "            exceed_log[wav_file] = { 'expect': target_len, 'fact': result_len }\n",
    "    \n",
    "    write_json(f'log/{name}.exceed.json', exceed_log)\n",
    "    print('{} exceed count : {}'.format(name, exceed_count))\n",
    "\n",
    "\n",
    "for name in DLC1_CHARACTER:\n",
    "    print('check', name)\n",
    "    check_base_info(name)"
   ]
  },
  {
   "cell_type": "markdown",
   "metadata": {},
   "source": [
    "# check dlc1_dist sr and length"
   ]
  },
  {
   "cell_type": "code",
   "execution_count": 2,
   "metadata": {},
   "outputs": [
    {
     "name": "stdout",
     "output_type": "stream",
     "text": [
      "check coach\n"
     ]
    },
    {
     "name": "stderr",
     "output_type": "stream",
     "text": [
      "100%|██████████| 313/313 [00:01<00:00, 281.59it/s]\n"
     ]
    },
    {
     "name": "stdout",
     "output_type": "stream",
     "text": [
      "coach exceed count : 3\n",
      "check gambler\n"
     ]
    },
    {
     "name": "stderr",
     "output_type": "stream",
     "text": [
      "100%|██████████| 421/421 [00:01<00:00, 311.45it/s]\n"
     ]
    },
    {
     "name": "stdout",
     "output_type": "stream",
     "text": [
      "gambler exceed count : 15\n",
      "check mechanic\n"
     ]
    },
    {
     "name": "stderr",
     "output_type": "stream",
     "text": [
      "100%|██████████| 463/463 [00:01<00:00, 283.02it/s]\n"
     ]
    },
    {
     "name": "stdout",
     "output_type": "stream",
     "text": [
      "mechanic exceed count : 22\n",
      "check producer\n"
     ]
    },
    {
     "name": "stderr",
     "output_type": "stream",
     "text": [
      "100%|██████████| 450/450 [00:01<00:00, 284.59it/s]\n"
     ]
    },
    {
     "name": "stdout",
     "output_type": "stream",
     "text": [
      "producer exceed count : 7\n",
      "check biker\n"
     ]
    },
    {
     "name": "stderr",
     "output_type": "stream",
     "text": [
      "100%|██████████| 206/206 [00:00<00:00, 291.12it/s]\n"
     ]
    },
    {
     "name": "stdout",
     "output_type": "stream",
     "text": [
      "biker exceed count : 2\n",
      "check teengirl\n"
     ]
    },
    {
     "name": "stderr",
     "output_type": "stream",
     "text": [
      "100%|██████████| 155/155 [00:00<00:00, 288.34it/s]\n"
     ]
    },
    {
     "name": "stdout",
     "output_type": "stream",
     "text": [
      "teengirl exceed count : 1\n",
      "check manager\n"
     ]
    },
    {
     "name": "stderr",
     "output_type": "stream",
     "text": [
      "100%|██████████| 138/138 [00:00<00:00, 287.75it/s]"
     ]
    },
    {
     "name": "stdout",
     "output_type": "stream",
     "text": [
      "manager exceed count : 1\n"
     ]
    },
    {
     "name": "stderr",
     "output_type": "stream",
     "text": [
      "\n"
     ]
    }
   ],
   "source": [
    "def check_base_info(name: str):\n",
    "    target_folder = os.path.join(DLC1_VOICE_ROOT, name)\n",
    "    result_folder = os.path.join('..', 'dlc1_dist', config[name]['mod_name'], 'sound', 'player', 'survivor', 'voice', name)\n",
    "    assert len(os.listdir(target_folder)) == len(os.listdir(result_folder))\n",
    "    exceed_count = 0\n",
    "    if not os.path.exists('log'):\n",
    "        os.makedirs('log')\n",
    "    exceed_log = {}\n",
    "\n",
    "    for wav_file in tqdm.tqdm(os.listdir(target_folder)):\n",
    "        target_path = os.path.join(target_folder, wav_file)\n",
    "        result_path = os.path.join(result_folder, wav_file)\n",
    "        assert os.path.exists(result_path), f\"{result_path} doesn't exist\"\n",
    "\n",
    "        target_audio: AudioSegment = AudioSegment.from_file(target_path)\n",
    "        result_audio: AudioSegment = AudioSegment.from_file(result_path)\n",
    "\n",
    "        target_sr = target_audio.frame_rate\n",
    "        result_sr = result_audio.frame_rate\n",
    "        target_len = len(target_audio)\n",
    "        result_len = len(result_audio)\n",
    "\n",
    "        assert target_sr == result_sr, f\"{wav_file} doesn't share the same sample rate: {target_sr}(expect) vs {result_sr}(fact)\"\n",
    "        assert target_len <= result_len, f\"{wav_file} doesn't share the same length: {target_len}(expect) vs {result_len}(fact)\"\n",
    "        if result_len > target_len and (result_len - target_len) / target_len >= 0.2 and target_len >= 1000:\n",
    "            exceed_count += 1\n",
    "            exceed_log[wav_file] = { 'expect': target_len, 'fact': result_len }\n",
    "    \n",
    "    write_json(f'log/{name}.exceed.json', exceed_log)\n",
    "    print('{} exceed count : {}'.format(name, exceed_count))\n",
    "\n",
    "\n",
    "for name in DLC1_CHARACTER:\n",
    "    print('check', name)\n",
    "    check_base_info(name)"
   ]
  },
  {
   "cell_type": "code",
   "execution_count": null,
   "metadata": {},
   "outputs": [],
   "source": [
    "def check_base_info(name: str):\n",
    "    target_folder = os.path.join(DLC2_VOICE_ROOT, name)\n",
    "    result_folder = os.path.join('..', 'dlc2_dist', config[name]['mod_name'], 'sound', 'player', 'survivor', 'voice', name)\n",
    "    assert len(os.listdir(target_folder)) == len(os.listdir(result_folder))\n",
    "    exceed_count = 0\n",
    "    if not os.path.exists('log'):\n",
    "        os.makedirs('log')\n",
    "    exceed_log = {}\n",
    "\n",
    "    for wav_file in tqdm.tqdm(os.listdir(target_folder)):\n",
    "        target_path = os.path.join(target_folder, wav_file)\n",
    "        result_path = os.path.join(result_folder, wav_file)\n",
    "        assert os.path.exists(result_path), f\"{result_path} doesn't exist\"\n",
    "\n",
    "        target_audio: AudioSegment = AudioSegment.from_file(target_path)\n",
    "        result_audio: AudioSegment = AudioSegment.from_file(result_path)\n",
    "\n",
    "        target_sr = target_audio.frame_rate\n",
    "        result_sr = result_audio.frame_rate\n",
    "        target_len = len(target_audio)\n",
    "        result_len = len(result_audio)\n",
    "\n",
    "        assert target_sr == result_sr, f\"{wav_file} doesn't share the same sample rate: {target_sr}(expect) vs {result_sr}(fact)\"\n",
    "        assert target_len <= result_len, f\"{wav_file} doesn't share the same length: {target_len}(expect) vs {result_len}(fact)\"\n",
    "        if result_len > target_len and (result_len - target_len) / target_len >= 0.2 and target_len >= 1000:\n",
    "            exceed_count += 1\n",
    "            exceed_log[wav_file] = { 'expect': target_len, 'fact': result_len }\n",
    "    \n",
    "    write_json(f'log/{name}.exceed.json', exceed_log)\n",
    "    print('{} exceed count : {}'.format(name, exceed_count))\n",
    "\n",
    "\n",
    "for name in DLC2_CHARACTER:\n",
    "    print('check', name)\n",
    "    check_base_info(name)"
   ]
  }
 ],
 "metadata": {
  "kernelspec": {
   "display_name": "Python 3.8.10 64-bit",
   "language": "python",
   "name": "python3"
  },
  "language_info": {
   "codemirror_mode": {
    "name": "ipython",
    "version": 3
   },
   "file_extension": ".py",
   "mimetype": "text/x-python",
   "name": "python",
   "nbconvert_exporter": "python",
   "pygments_lexer": "ipython3",
   "version": "3.8.10"
  },
  "orig_nbformat": 4,
  "vscode": {
   "interpreter": {
    "hash": "e0144baad0ecee903f108a3e46e51ceadd7da3fc904cfa79747d813b61464b4e"
   }
  }
 },
 "nbformat": 4,
 "nbformat_minor": 2
}
