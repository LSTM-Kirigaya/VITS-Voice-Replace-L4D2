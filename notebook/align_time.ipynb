{
 "cells": [
  {
   "cell_type": "code",
   "execution_count": 12,
   "metadata": {},
   "outputs": [],
   "source": [
    "import librosa\n",
    "from pydub import AudioSegment\n",
    "from pydub.effects import compress_dynamic_range, normalize\n",
    "import pydub.scipy_effects as scipy_effects\n",
    "from pydub.playback import play\n",
    "import soundfile as sf\n",
    "\n",
    "import os\n",
    "from pydub import AudioSegment\n",
    "import json\n",
    "import tqdm\n",
    "import yaml\n",
    "\n",
    "ROOT = r'D:\\Download\\steam\\steam\\steamapps\\common\\Left 4 Dead 2\\left4dead2'\n",
    "VOICE_ROOT = os.path.join(ROOT, 'sound', 'player', 'survivor', 'voice')\n",
    "CHARACTERS = ['coach', 'gambler', 'mechanic', 'producer']\n",
    "\n",
    "with open('../config/voice.yaml', 'r', encoding='utf-8') as fp:\n",
    "    config = yaml.load(fp, Loader=yaml.FullLoader)\n",
    "\n",
    "def read_json(path: str) -> dict:\n",
    "    with open(path, 'r', encoding='utf-8') as fp:\n",
    "        data = json.load(fp)\n",
    "    return data\n",
    "\n",
    "def write_json(path: str, obj: dict):\n",
    "    with open(path, 'w', encoding='utf-8') as fp:\n",
    "        json.dump(obj, fp, ensure_ascii=False, indent=4)\n",
    "\n",
    "def speed_change(sound: AudioSegment, speed:float = 1.0) -> AudioSegment:\n",
    "    # Manually override the frame_rate. This tells the computer how many\n",
    "    # samples to play per second\n",
    "    sound_with_altered_frame_rate = sound._spawn(sound.raw_data, overrides={\n",
    "         \"frame_rate\": int(sound.frame_rate * speed)\n",
    "      })\n",
    "     # convert the sound with altered frame rate to a standard frame rate\n",
    "     # so that regular playback programs will work right. They often only\n",
    "     # know how to play audio at standard frame rate (like 44.1k)\n",
    "    return sound_with_altered_frame_rate.set_frame_rate(sound.frame_rate)"
   ]
  },
  {
   "cell_type": "code",
   "execution_count": 16,
   "metadata": {},
   "outputs": [
    {
     "name": "stdout",
     "output_type": "stream",
     "text": [
      "0.8307383224510296\n",
      "expect 3308, actual 3982, now 3308\n"
     ]
    },
    {
     "data": {
      "text/html": [
       "\n",
       "                    <audio controls>\n",
       "                        <source src=\"data:audio/mpeg;base64,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\" type=\"audio/mpeg\"/>\n",
       "                        Your browser does not support the audio element.\n",
       "                    </audio>\n",
       "                  "
      ],
      "text/plain": [
       "<pydub.audio_segment.AudioSegment at 0x210c7a7c910>"
      ]
     },
     "execution_count": 16,
     "metadata": {},
     "output_type": "execute_result"
    }
   ],
   "source": [
    "def align_time_one(name: str, wav_file: str) -> AudioSegment:\n",
    "    meta_data = read_json(f'../transcription/{name}.meta.json')\n",
    "    result_path = os.path.join('..', 'dist', config[name]['mod_name'], 'sound', 'player', 'survivor', 'voice', name, wav_file)\n",
    "\n",
    "    meta_info = meta_data[wav_file]\n",
    "    length = meta_info['length']\n",
    "\n",
    "    result_audio: AudioSegment = AudioSegment.from_file(result_path)\n",
    "    result_length = len(result_audio)\n",
    "\n",
    "    speed_ratio = result_length / length\n",
    "\n",
    "    speed_up_audio = speed_change(result_audio, speed_ratio)\n",
    "\n",
    "    print(length / result_length)\n",
    "\n",
    "    print(\"expect {}, actual {}, now {}\".format(length, result_length, speed_up_audio.__len__()))\n",
    "    return speed_up_audio\n",
    "    \n",
    "\n",
    "align_time_one('coach', 'worldc2m3b03.wav')"
   ]
  }
 ],
 "metadata": {
  "kernelspec": {
   "display_name": "Python 3.8.10 64-bit",
   "language": "python",
   "name": "python3"
  },
  "language_info": {
   "codemirror_mode": {
    "name": "ipython",
    "version": 3
   },
   "file_extension": ".py",
   "mimetype": "text/x-python",
   "name": "python",
   "nbconvert_exporter": "python",
   "pygments_lexer": "ipython3",
   "version": "3.8.10"
  },
  "orig_nbformat": 4,
  "vscode": {
   "interpreter": {
    "hash": "e0144baad0ecee903f108a3e46e51ceadd7da3fc904cfa79747d813b61464b4e"
   }
  }
 },
 "nbformat": 4,
 "nbformat_minor": 2
}
